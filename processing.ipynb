{
 "cells": [
  {
   "cell_type": "code",
   "execution_count": 4,
   "id": "87f28537",
   "metadata": {},
   "outputs": [],
   "source": [
    "import pandas as pd\n",
    "import numpy as np\n",
    "import datetime as dt \n",
    "import matplotlib.pyplot as plt\n",
    "import seaborn as sns"
   ]
  },
  {
   "cell_type": "code",
   "execution_count": 5,
   "id": "93db77ff",
   "metadata": {},
   "outputs": [],
   "source": [
    "# чтение сгенерированного файла\n",
    "df = pd.read_csv('data/pervozki_with_regions.csv')"
   ]
  },
  {
   "cell_type": "code",
   "execution_count": 6,
   "id": "44637728",
   "metadata": {},
   "outputs": [],
   "source": [
    "# удаление колонок, которые не дают важных результатов в процессе исследования\n",
    "df.drop(['kommentariy_perevozki',\n",
    "         'id_voditelya',\n",
    "         'fio_voditelya',\n",
    "         'gos_nomer_avto',\n",
    "         'punkt_zagruzki',\n",
    "         'punkt_razgruzki',\n",
    "         'nalichie_dokumentov',\n",
    "         'kategorija_perevozki',\n",
    "         'otklonenie_ot_plana_chas',\n",
    "         'kompaniya_perevozchik'], axis=1, inplace=True)"
   ]
  },
  {
   "cell_type": "code",
   "execution_count": 7,
   "id": "12587778",
   "metadata": {},
   "outputs": [],
   "source": [
    "# работа над колонкой отправителя/получателя, где данные контрагентов были переименованы в определенные группы\n",
    "def groupping_companies(name):\n",
    "    name = name.split()\n",
    "    if name[0]=='ЗАО' or name[0]=='ОАО' or name[0]=='АО' or name[0]=='РАО' or name[0]=='ООО':\n",
    "        return 'коммерческая компания'\n",
    "    elif name[0]=='ИП':\n",
    "        return 'индивидуальный предприниматель'\n",
    "    elif name[0]=='НПО':\n",
    "        return 'некоммерческая организация'\n",
    "    else:\n",
    "        return 'коммерческая компания'\n",
    "    \n",
    "\n",
    "# применение функции к колонкам грузоотправителя / грузополучателя \n",
    "df['gruzopoluchatel'] = df['gruzopoluchatel'].apply(groupping_companies)\n",
    "df['gruzootpravitel'] = df['gruzootpravitel'].apply(groupping_companies)\n",
    "\n",
    "\n",
    "# изменение данных грузоотправителя на \"интернет - магазин\" по перевозкам с типом грузов \"ТНП\"\n",
    "df.loc[df[\"tip_gruza\"] == \"ТНП\", \"gruzootpravitel\"] = \"интернет-магазин\""
   ]
  },
  {
   "cell_type": "code",
   "execution_count": 8,
   "id": "7360e3fe",
   "metadata": {},
   "outputs": [],
   "source": [
    "# деление данных колонки даты для извлечения даты, исключая времени\n",
    "def splitting_date(name):\n",
    "    return name.split()[0]\n",
    "\n",
    "# применение функции к колонкам\n",
    "df['data_viezda'] = df['data_viezda'].apply(splitting_date)\n",
    "df['planovaya_data_pribytiya'] = df['planovaya_data_pribytiya'].apply(splitting_date)\n",
    "df['data_sozdaniya_zakaza'] = df['data_sozdaniya_zakaza'].apply(splitting_date)\n",
    "df['fakticheskaya_data_pribytiya'] = df['fakticheskaya_data_pribytiya'].apply(splitting_date)"
   ]
  },
  {
   "cell_type": "code",
   "execution_count": 9,
   "id": "46b06d21",
   "metadata": {},
   "outputs": [],
   "source": [
    "# перевод из строкового типа данных на тип данных \"даты/время\"\n",
    "df['data_sozdaniya_zakaza'] = pd.to_datetime(df['data_sozdaniya_zakaza'])\n",
    "df['data_viezda'] = pd.to_datetime(df['data_viezda'])\n",
    "df['planovaya_data_pribytiya'] = pd.to_datetime(df['planovaya_data_pribytiya'])\n",
    "df['fakticheskaya_data_pribytiya'] = pd.to_datetime(df['fakticheskaya_data_pribytiya'])\n"
   ]
  },
  {
   "cell_type": "code",
   "execution_count": 10,
   "id": "8d91934a",
   "metadata": {},
   "outputs": [],
   "source": [
    "# обработка колонок статус:\n",
    "# \"в пути\" (у грузов в статусе \"в пути\" нет фактической даты прибытия)  \n",
    "# \"запланирована\" (у грузов в статусе \"запланирована\" нет фактической даты прибытия, даты выезда)\n",
    "# \"отменена\" (грузы данного статуса удалены, так как не несут какой-либо информации и грузы не были отданы под отвественность транспортной компании)\n",
    "df.loc[df['status_perevozki'] == \"В пути\", \"fakticheskaya_data_pribytiya\"] = pd.NaT\n",
    "df.loc[df['status_perevozki'] == \"Запланирована\", [\"fakticheskaya_data_pribytiya\", \"data_viezda\"]] = pd.NaT\n",
    "df.loc[df['status_perevozki'] == \"Отменена\", [\"fakticheskaya_data_pribytiya\", \"data_viezda\",\"planovaya_data_pribytiya\"]] = pd.NaT\n"
   ]
  },
  {
   "cell_type": "code",
   "execution_count": 11,
   "id": "58da5433",
   "metadata": {},
   "outputs": [],
   "source": [
    "# создание новой колонки срока доставки для отслеживания сроков перевозки грузов\n",
    "df['srok_dostavki'] = df['planovaya_data_pribytiya'] - df['data_viezda']\n",
    "df['otklonenie_ot_plana_dney'] = df['fakticheskaya_data_pribytiya'] - df['planovaya_data_pribytiya']\n",
    "\n",
    "\n",
    "# замена пустых значений на ноль\n",
    "df['srok_dostavki'] = df['srok_dostavki'].fillna(pd.Timedelta(days=0))\n",
    "df['otklonenie_ot_plana_dney'] = df['otklonenie_ot_plana_dney'].fillna(pd.Timedelta(days=0))\n",
    "\n",
    "\n",
    "# удаление строк с отрицательным значением (возможные тех.ошибки записи датасета)\n",
    "df.drop(df[df[\"srok_dostavki\"] < pd.Timedelta(0)].index, inplace=True)\n",
    "df.drop(df[df[\"otklonenie_ot_plana_dney\"] < pd.Timedelta(0)].index, inplace=True)\n"
   ]
  },
  {
   "cell_type": "code",
   "execution_count": 12,
   "id": "f9bb22b2",
   "metadata": {},
   "outputs": [],
   "source": [
    "# преобразование в тип целые числа для выведения верных данных на стримлит\n",
    "df['srok_dostavki'] = df['srok_dostavki'].apply(lambda x: str(x)[0])\n",
    "df['srok_dostavki'] = df['srok_dostavki'].astype(int)\n",
    "df['otklonenie_ot_plana_dney'] = df['srok_dostavki'].apply(lambda x: str(x)[0])\n",
    "df['otklonenie_ot_plana_dney'] = df['srok_dostavki'].astype(int)"
   ]
  },
  {
   "cell_type": "code",
   "execution_count": 13,
   "id": "79ce7e23",
   "metadata": {},
   "outputs": [],
   "source": [
    "# округление стоимостей\n",
    "df['tarif_summa'] = df['tarif_summa'].apply(lambda x: round(x))\n",
    "df['sebestoimost_perevozki'] = df['sebestoimost_perevozki'].apply(lambda x: round(x))\n",
    "df['pribyl'] = df['pribyl'].apply(lambda x: round(x))"
   ]
  },
  {
   "cell_type": "code",
   "execution_count": 14,
   "id": "961814d9",
   "metadata": {},
   "outputs": [],
   "source": [
    "# определение категориальных значений по дням задержки и образование новой колонки\n",
    "def identification_otklonenie_ot_plana_dney(day):\n",
    "    if day <=2:\n",
    "        return 'Незначительный'\n",
    "    elif 2 < day <=4:\n",
    "        return 'Тревожный'\n",
    "    elif day >=5:\n",
    "        return 'Нарушенный'\n",
    "    else:\n",
    "        return 'Не нарушен'\n",
    "    \n",
    "df['identification_otklonenie_ot_plana_dney'] = df['otklonenie_ot_plana_dney'].apply(identification_otklonenie_ot_plana_dney)"
   ]
  },
  {
   "cell_type": "code",
   "execution_count": 15,
   "id": "15c3c9cd",
   "metadata": {},
   "outputs": [],
   "source": [
    "# сохранение удобного порядка колонок для удобного восприятия информации\n",
    "df = df[['data_sozdaniya_zakaza',\n",
    "         'status_perevozki',\n",
    "         'gruzootpravitel',\n",
    "         'gruzopoluchatel',\n",
    "         'tip_gruza',\n",
    "         'gorod_zagruzki',\n",
    "         'gorod_razgruzki',\n",
    "         'rasstoyanie_km',\n",
    "         'marka_model_avto', \n",
    "         'tip_kuzova',\n",
    "         'gruzopodemnost_tonn', \n",
    "         'data_viezda',\n",
    "         'planovaya_data_pribytiya',\n",
    "         'fakticheskaya_data_pribytiya',\n",
    "         'identification_otklonenie_ot_plana_dney',\n",
    "         'srok_dostavki',\n",
    "         'tonnazh_gruza_tonn',\n",
    "         'obem_gruza_m3',\n",
    "         'kolichestvo_pozitsiy',\n",
    "         'tarif_summa',\n",
    "         'sebestoimost_perevozki',\n",
    "         'pribyl'\n",
    "         ]]"
   ]
  },
  {
   "cell_type": "code",
   "execution_count": 19,
   "id": "bac00406",
   "metadata": {},
   "outputs": [
    {
     "data": {
      "text/plain": [
       "np.float64(75.16323501195163)"
      ]
     },
     "execution_count": 19,
     "metadata": {},
     "output_type": "execute_result"
    }
   ],
   "source": [
    "(df['sebestoimost_perevozki']/df['tarif_summa'] * 100).mean()"
   ]
  },
  {
   "cell_type": "code",
   "execution_count": null,
   "id": "2f42463b",
   "metadata": {},
   "outputs": [],
   "source": [
    "# экспорт обработанного датасета\n",
    "# df.to_csv('data/perevozki_processing.csv', index=False)"
   ]
  }
 ],
 "metadata": {
  "kernelspec": {
   "display_name": "Python 3",
   "language": "python",
   "name": "python3"
  },
  "language_info": {
   "codemirror_mode": {
    "name": "ipython",
    "version": 3
   },
   "file_extension": ".py",
   "mimetype": "text/x-python",
   "name": "python",
   "nbconvert_exporter": "python",
   "pygments_lexer": "ipython3",
   "version": "3.13.2"
  }
 },
 "nbformat": 4,
 "nbformat_minor": 5
}
